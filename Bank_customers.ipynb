{
 "cells": [
  {
   "cell_type": "code",
   "execution_count": 1,
   "metadata": {
    "collapsed": true
   },
   "outputs": [],
   "source": [
    "import warnings\n",
    "warnings.filterwarnings('ignore')"
   ]
  },
  {
   "cell_type": "code",
   "execution_count": 2,
   "metadata": {
    "scrolled": true
   },
   "outputs": [],
   "source": [
    "# Importing the libraries\n",
    "import numpy as np\n",
    "import matplotlib.pyplot as plt\n",
    "import pandas as pd"
   ]
  },
  {
   "cell_type": "code",
   "execution_count": 3,
   "metadata": {
    "collapsed": true
   },
   "outputs": [],
   "source": [
    "# Importing the dataset\n",
    "dataset = pd.read_csv('Churn_Modelling.csv')\n",
    "X = dataset.iloc[:, 3:13].values\n",
    "y = dataset.iloc[:, 13].values"
   ]
  },
  {
   "cell_type": "code",
   "execution_count": 4,
   "metadata": {
    "collapsed": true
   },
   "outputs": [],
   "source": [
    "# Encoding categorical data \n",
    "from sklearn.preprocessing import LabelEncoder, OneHotEncoder\n",
    "labelencoder_X_1 = LabelEncoder()\n",
    "X[:, 1] = labelencoder_X_1.fit_transform(X[:, 1])\n",
    "labelencoder_X_2 = LabelEncoder()\n",
    "X[:, 2] = labelencoder_X_2.fit_transform(X[:, 2])\n",
    "onehotencoder = OneHotEncoder(categorical_features = [1])\n",
    "X = onehotencoder.fit_transform(X).toarray()\n",
    "X = X[:, 1:]"
   ]
  },
  {
   "cell_type": "code",
   "execution_count": 5,
   "metadata": {
    "collapsed": true
   },
   "outputs": [],
   "source": [
    "# Splitting the dataset into the Training set and Test set\n",
    "from sklearn.model_selection import train_test_split\n",
    "X_train, X_test, y_train, y_test = train_test_split(X, y, test_size = 0.2, random_state = 0)"
   ]
  },
  {
   "cell_type": "code",
   "execution_count": 6,
   "metadata": {},
   "outputs": [
    {
     "name": "stdout",
     "output_type": "stream",
     "text": [
      "(8000, 11)\n"
     ]
    }
   ],
   "source": [
    "# Feature Scaling\n",
    "from sklearn.preprocessing import StandardScaler\n",
    "sc = StandardScaler()\n",
    "X_train = sc.fit_transform(X_train)\n",
    "print(X_train.shape)"
   ]
  },
  {
   "cell_type": "code",
   "execution_count": 7,
   "metadata": {},
   "outputs": [
    {
     "name": "stdout",
     "output_type": "stream",
     "text": [
      "(2000, 11)\n"
     ]
    }
   ],
   "source": [
    "X_test = sc.transform(X_test)\n",
    "print(X_test.shape)"
   ]
  },
  {
   "cell_type": "code",
   "execution_count": 8,
   "metadata": {},
   "outputs": [
    {
     "name": "stderr",
     "output_type": "stream",
     "text": [
      "Using TensorFlow backend.\n"
     ]
    }
   ],
   "source": [
    "# Lets make ANN\n",
    "import keras\n",
    "from keras.models import Sequential #type of model\n",
    "from keras.layers import Dense #used to create hidden layers\n",
    "from keras.layers import Dropout"
   ]
  },
  {
   "cell_type": "code",
   "execution_count": 9,
   "metadata": {},
   "outputs": [
    {
     "name": "stdout",
     "output_type": "stream",
     "text": [
      "Epoch 1/100\n",
      "8000/8000 [==============================] - 1s - loss: 0.5097 - acc: 0.7959     \n",
      "Epoch 2/100\n",
      "8000/8000 [==============================] - 0s - loss: 0.4388 - acc: 0.7960     \n",
      "Epoch 3/100\n",
      "8000/8000 [==============================] - 0s - loss: 0.4314 - acc: 0.7960     \n",
      "Epoch 4/100\n",
      "8000/8000 [==============================] - 0s - loss: 0.4331 - acc: 0.7960     \n",
      "Epoch 5/100\n",
      "8000/8000 [==============================] - 0s - loss: 0.4272 - acc: 0.7960     \n",
      "Epoch 6/100\n",
      "8000/8000 [==============================] - 0s - loss: 0.4276 - acc: 0.8069     \n",
      "Epoch 7/100\n",
      "8000/8000 [==============================] - 0s - loss: 0.4251 - acc: 0.8209     \n",
      "Epoch 8/100\n",
      "8000/8000 [==============================] - 0s - loss: 0.4280 - acc: 0.8253     \n",
      "Epoch 9/100\n",
      "8000/8000 [==============================] - 0s - loss: 0.4263 - acc: 0.8256     \n",
      "Epoch 10/100\n",
      "8000/8000 [==============================] - 0s - loss: 0.4280 - acc: 0.8270     \n",
      "Epoch 11/100\n",
      "8000/8000 [==============================] - 0s - loss: 0.4256 - acc: 0.8276     \n",
      "Epoch 12/100\n",
      "8000/8000 [==============================] - 0s - loss: 0.4245 - acc: 0.8271     \n",
      "Epoch 13/100\n",
      "8000/8000 [==============================] - 0s - loss: 0.4261 - acc: 0.8310     \n",
      "Epoch 14/100\n",
      "8000/8000 [==============================] - 0s - loss: 0.4252 - acc: 0.8281     \n",
      "Epoch 15/100\n",
      "8000/8000 [==============================] - 0s - loss: 0.4240 - acc: 0.8281     \n",
      "Epoch 16/100\n",
      "8000/8000 [==============================] - 0s - loss: 0.4248 - acc: 0.8306     \n",
      "Epoch 17/100\n",
      "8000/8000 [==============================] - 0s - loss: 0.4264 - acc: 0.8291     \n",
      "Epoch 18/100\n",
      "8000/8000 [==============================] - 0s - loss: 0.4225 - acc: 0.8294     \n",
      "Epoch 19/100\n",
      "8000/8000 [==============================] - 0s - loss: 0.4275 - acc: 0.8294     \n",
      "Epoch 20/100\n",
      "8000/8000 [==============================] - 0s - loss: 0.4264 - acc: 0.8285     \n",
      "Epoch 21/100\n",
      "8000/8000 [==============================] - 0s - loss: 0.4248 - acc: 0.8320     \n",
      "Epoch 22/100\n",
      "8000/8000 [==============================] - 0s - loss: 0.4230 - acc: 0.8299     \n",
      "Epoch 23/100\n",
      "8000/8000 [==============================] - 0s - loss: 0.4226 - acc: 0.8324     \n",
      "Epoch 24/100\n",
      "8000/8000 [==============================] - 0s - loss: 0.4199 - acc: 0.8319     \n",
      "Epoch 25/100\n",
      "8000/8000 [==============================] - 0s - loss: 0.4252 - acc: 0.8324     \n",
      "Epoch 26/100\n",
      "8000/8000 [==============================] - 0s - loss: 0.4243 - acc: 0.8309     \n",
      "Epoch 27/100\n",
      "8000/8000 [==============================] - 0s - loss: 0.4264 - acc: 0.8326     \n",
      "Epoch 28/100\n",
      "8000/8000 [==============================] - 0s - loss: 0.4229 - acc: 0.8313     \n",
      "Epoch 29/100\n",
      "8000/8000 [==============================] - 1s - loss: 0.4214 - acc: 0.8313     \n",
      "Epoch 30/100\n",
      "8000/8000 [==============================] - 0s - loss: 0.4239 - acc: 0.8320     \n",
      "Epoch 31/100\n",
      "8000/8000 [==============================] - 0s - loss: 0.4221 - acc: 0.8314     \n",
      "Epoch 32/100\n",
      "8000/8000 [==============================] - 0s - loss: 0.4205 - acc: 0.8344     \n",
      "Epoch 33/100\n",
      "8000/8000 [==============================] - 0s - loss: 0.4219 - acc: 0.8330     \n",
      "Epoch 34/100\n",
      "8000/8000 [==============================] - 0s - loss: 0.4233 - acc: 0.8314     \n",
      "Epoch 35/100\n",
      "8000/8000 [==============================] - 0s - loss: 0.4245 - acc: 0.8330     \n",
      "Epoch 36/100\n",
      "8000/8000 [==============================] - 1s - loss: 0.4240 - acc: 0.8333     \n",
      "Epoch 37/100\n",
      "8000/8000 [==============================] - 1s - loss: 0.4208 - acc: 0.8323     \n",
      "Epoch 38/100\n",
      "8000/8000 [==============================] - 1s - loss: 0.4255 - acc: 0.8325     \n",
      "Epoch 39/100\n",
      "8000/8000 [==============================] - 1s - loss: 0.4249 - acc: 0.8329     \n",
      "Epoch 40/100\n",
      "8000/8000 [==============================] - 1s - loss: 0.4230 - acc: 0.8338     \n",
      "Epoch 41/100\n",
      "8000/8000 [==============================] - 1s - loss: 0.4229 - acc: 0.8311     \n",
      "Epoch 42/100\n",
      "8000/8000 [==============================] - 1s - loss: 0.4212 - acc: 0.8320     \n",
      "Epoch 43/100\n",
      "8000/8000 [==============================] - 1s - loss: 0.4238 - acc: 0.8335     \n",
      "Epoch 44/100\n",
      "8000/8000 [==============================] - 1s - loss: 0.4232 - acc: 0.8325     \n",
      "Epoch 45/100\n",
      "8000/8000 [==============================] - 1s - loss: 0.4218 - acc: 0.8336     \n",
      "Epoch 46/100\n",
      "8000/8000 [==============================] - 1s - loss: 0.4227 - acc: 0.8340     \n",
      "Epoch 47/100\n",
      "8000/8000 [==============================] - 1s - loss: 0.4250 - acc: 0.8327     \n",
      "Epoch 48/100\n",
      "8000/8000 [==============================] - 1s - loss: 0.4220 - acc: 0.8346     \n",
      "Epoch 49/100\n",
      "8000/8000 [==============================] - 1s - loss: 0.4228 - acc: 0.8344     \n",
      "Epoch 50/100\n",
      "8000/8000 [==============================] - 1s - loss: 0.4248 - acc: 0.8321     \n",
      "Epoch 51/100\n",
      "8000/8000 [==============================] - 1s - loss: 0.4202 - acc: 0.8323     \n",
      "Epoch 52/100\n",
      "8000/8000 [==============================] - 1s - loss: 0.4175 - acc: 0.8338     \n",
      "Epoch 53/100\n",
      "8000/8000 [==============================] - 1s - loss: 0.4229 - acc: 0.8325     \n",
      "Epoch 54/100\n",
      "8000/8000 [==============================] - 3s - loss: 0.4202 - acc: 0.8306     \n",
      "Epoch 55/100\n",
      "8000/8000 [==============================] - 4s - loss: 0.4228 - acc: 0.8316     \n",
      "Epoch 56/100\n",
      "8000/8000 [==============================] - 3s - loss: 0.4201 - acc: 0.8315     \n",
      "Epoch 57/100\n",
      "8000/8000 [==============================] - 3s - loss: 0.4211 - acc: 0.8313     \n",
      "Epoch 58/100\n",
      "8000/8000 [==============================] - 2s - loss: 0.4209 - acc: 0.8341     \n",
      "Epoch 59/100\n",
      "8000/8000 [==============================] - 1s - loss: 0.4214 - acc: 0.8325     \n",
      "Epoch 60/100\n",
      "8000/8000 [==============================] - 1s - loss: 0.4191 - acc: 0.8324     \n",
      "Epoch 61/100\n",
      "8000/8000 [==============================] - 1s - loss: 0.4230 - acc: 0.8336     \n",
      "Epoch 62/100\n",
      "8000/8000 [==============================] - 1s - loss: 0.4250 - acc: 0.8320     \n",
      "Epoch 63/100\n",
      "8000/8000 [==============================] - 1s - loss: 0.4211 - acc: 0.8329     \n",
      "Epoch 64/100\n",
      "8000/8000 [==============================] - 1s - loss: 0.4239 - acc: 0.8309     \n",
      "Epoch 65/100\n",
      "8000/8000 [==============================] - 1s - loss: 0.4219 - acc: 0.8326     \n",
      "Epoch 66/100\n",
      "8000/8000 [==============================] - 1s - loss: 0.4262 - acc: 0.8310     \n",
      "Epoch 67/100\n",
      "8000/8000 [==============================] - 1s - loss: 0.4169 - acc: 0.8325     \n",
      "Epoch 68/100\n",
      "8000/8000 [==============================] - 1s - loss: 0.4216 - acc: 0.8338     \n",
      "Epoch 69/100\n",
      "8000/8000 [==============================] - 1s - loss: 0.4217 - acc: 0.8333     \n",
      "Epoch 70/100\n",
      "8000/8000 [==============================] - 1s - loss: 0.4216 - acc: 0.8340     \n",
      "Epoch 71/100\n",
      "8000/8000 [==============================] - 3s - loss: 0.4221 - acc: 0.8314     \n",
      "Epoch 72/100\n",
      "8000/8000 [==============================] - 2s - loss: 0.4229 - acc: 0.8320     \n",
      "Epoch 73/100\n",
      "8000/8000 [==============================] - 2s - loss: 0.4189 - acc: 0.8325     \n",
      "Epoch 74/100\n",
      "8000/8000 [==============================] - 1s - loss: 0.4242 - acc: 0.8321     \n",
      "Epoch 75/100\n",
      "8000/8000 [==============================] - 1s - loss: 0.4235 - acc: 0.8343     \n",
      "Epoch 76/100\n",
      "8000/8000 [==============================] - 2s - loss: 0.4200 - acc: 0.8338     \n",
      "Epoch 77/100\n",
      "8000/8000 [==============================] - 2s - loss: 0.4184 - acc: 0.8330     \n",
      "Epoch 78/100\n",
      "8000/8000 [==============================] - 1s - loss: 0.4238 - acc: 0.8333     \n",
      "Epoch 79/100\n",
      "8000/8000 [==============================] - 1s - loss: 0.4233 - acc: 0.8335     \n",
      "Epoch 80/100\n",
      "8000/8000 [==============================] - 2s - loss: 0.4211 - acc: 0.8321     \n",
      "Epoch 81/100\n",
      "8000/8000 [==============================] - 2s - loss: 0.4224 - acc: 0.8336     \n",
      "Epoch 82/100\n",
      "8000/8000 [==============================] - 1s - loss: 0.4260 - acc: 0.8332     \n",
      "Epoch 83/100\n",
      "8000/8000 [==============================] - 1s - loss: 0.4229 - acc: 0.8344     \n",
      "Epoch 84/100\n",
      "8000/8000 [==============================] - 2s - loss: 0.4239 - acc: 0.8334     \n",
      "Epoch 85/100\n",
      "8000/8000 [==============================] - 2s - loss: 0.4226 - acc: 0.8331     \n",
      "Epoch 86/100\n",
      "8000/8000 [==============================] - 1s - loss: 0.4208 - acc: 0.8336     \n",
      "Epoch 87/100\n"
     ]
    },
    {
     "name": "stdout",
     "output_type": "stream",
     "text": [
      "8000/8000 [==============================] - 1s - loss: 0.4193 - acc: 0.8334     \n",
      "Epoch 88/100\n",
      "8000/8000 [==============================] - 1s - loss: 0.4223 - acc: 0.8359     \n",
      "Epoch 89/100\n",
      "8000/8000 [==============================] - 1s - loss: 0.4237 - acc: 0.8306     \n",
      "Epoch 90/100\n",
      "8000/8000 [==============================] - 1s - loss: 0.4218 - acc: 0.8310     \n",
      "Epoch 91/100\n",
      "8000/8000 [==============================] - 1s - loss: 0.4216 - acc: 0.8324     \n",
      "Epoch 92/100\n",
      "8000/8000 [==============================] - 1s - loss: 0.4235 - acc: 0.8329     \n",
      "Epoch 93/100\n",
      "8000/8000 [==============================] - 1s - loss: 0.4226 - acc: 0.8335     \n",
      "Epoch 94/100\n",
      "8000/8000 [==============================] - 1s - loss: 0.4244 - acc: 0.8349     \n",
      "Epoch 95/100\n",
      "8000/8000 [==============================] - 2s - loss: 0.4189 - acc: 0.8336     \n",
      "Epoch 96/100\n",
      "8000/8000 [==============================] - 2s - loss: 0.4219 - acc: 0.8351     \n",
      "Epoch 97/100\n",
      "8000/8000 [==============================] - 1s - loss: 0.4233 - acc: 0.8336     \n",
      "Epoch 98/100\n",
      "8000/8000 [==============================] - 2s - loss: 0.4229 - acc: 0.8331     \n",
      "Epoch 99/100\n",
      "8000/8000 [==============================] - 1s - loss: 0.4190 - acc: 0.8355     \n",
      "Epoch 100/100\n",
      "8000/8000 [==============================] - 1s - loss: 0.4223 - acc: 0.8334     \n"
     ]
    },
    {
     "data": {
      "text/plain": [
       "<keras.callbacks.History at 0x7fc7673c4dd0>"
      ]
     },
     "execution_count": 9,
     "metadata": {},
     "output_type": "execute_result"
    }
   ],
   "source": [
    "# Create your classifier here\n",
    "#Initialising the ANN\n",
    "classifier = Sequential() # classifier is as object\n",
    "#Adding the hidden layers\n",
    "classifier.add(Dense(output_dim = 6, init = 'uniform', activation = 'relu', input_dim = 11))\n",
    "classifier.add(Dropout(rate = 0.1))\n",
    "#Adding Second Hidden Layer\n",
    "classifier.add(Dense(output_dim = 11, init = 'uniform', activation = 'relu'))\n",
    "classifier.add(Dropout(rate = 0.1))\n",
    "#Adding Third Hidden Layer\n",
    "classifier.add(Dense(output_dim = 11, init = 'uniform', activation = 'relu'))\n",
    "classifier.add(Dropout(rate = 0.1))\n",
    "#Adding final/output layer\n",
    "classifier.add(Dense(output_dim = 1, init = 'uniform', activation = 'sigmoid'))\n",
    "#Compiling the ANN\n",
    "classifier.compile(optimizer = 'adam', loss = 'binary_crossentropy', metrics = ['accuracy'])\n",
    "#fitting ANN to trainig set\n",
    "classifier.fit(X_train, y_train, batch_size = 20, epochs = 100)"
   ]
  },
  {
   "cell_type": "markdown",
   "metadata": {},
   "source": [
    "y_pred will contain the data that is predicted on test data. Less prediction on y_pred indicates less probability of the customers to leave the bank."
   ]
  },
  {
   "cell_type": "code",
   "execution_count": 10,
   "metadata": {},
   "outputs": [
    {
     "name": "stdout",
     "output_type": "stream",
     "text": [
      "[[0.24834822]\n",
      " [0.3298476 ]\n",
      " [0.15953487]\n",
      " ...\n",
      " [0.20535249]\n",
      " [0.15938589]\n",
      " [0.14594643]]\n"
     ]
    }
   ],
   "source": [
    "# Predicting the Test set results\n",
    "y_pred = classifier.predict(X_test)\n",
    "print(y_pred)"
   ]
  },
  {
   "cell_type": "code",
   "execution_count": 11,
   "metadata": {},
   "outputs": [
    {
     "name": "stdout",
     "output_type": "stream",
     "text": [
      "0.21002956\n"
     ]
    }
   ],
   "source": [
    "#average prediction over the test data\n",
    "y_pred_mean = y_pred.mean()\n",
    "print(y_pred_mean)"
   ]
  },
  {
   "cell_type": "code",
   "execution_count": 12,
   "metadata": {},
   "outputs": [
    {
     "name": "stdout",
     "output_type": "stream",
     "text": [
      "[[False]]\n"
     ]
    }
   ],
   "source": [
    "#New Single Prediction\n",
    "new_prediction = classifier.predict(sc.transform(np.array([[0.0, 0, 600, 1, 40, 3, 60000, 2, 1, 1, 50000]])))\n",
    "print(new_prediction > 0.5)"
   ]
  },
  {
   "cell_type": "markdown",
   "metadata": {
    "collapsed": true
   },
   "source": [
    "Congratulations!!! The customer doesn't leave the bank!!!"
   ]
  }
 ],
 "metadata": {
  "kernelspec": {
   "display_name": "Python 2",
   "language": "python",
   "name": "python2"
  },
  "language_info": {
   "codemirror_mode": {
    "name": "ipython",
    "version": 2
   },
   "file_extension": ".py",
   "mimetype": "text/x-python",
   "name": "python",
   "nbconvert_exporter": "python",
   "pygments_lexer": "ipython2",
   "version": "2.7.12"
  }
 },
 "nbformat": 4,
 "nbformat_minor": 2
}
