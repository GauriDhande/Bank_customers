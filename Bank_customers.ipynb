{
 "cells": [
  {
   "cell_type": "code",
   "execution_count": 2,
   "metadata": {},
   "outputs": [
    {
     "name": "stderr",
     "output_type": "stream",
     "text": [
      "/home/gauri/.local/lib/python2.7/site-packages/pandas/core/computation/__init__.py:18: UserWarning: The installed version of numexpr 2.4.3 is not supported in pandas and will be not be used\n",
      "The minimum supported version is 2.4.6\n",
      "\n",
      "  ver=ver, min_ver=_MIN_NUMEXPR_VERSION), UserWarning)\n"
     ]
    }
   ],
   "source": [
    "# Importing the libraries\n",
    "import numpy as np\n",
    "import matplotlib.pyplot as plt\n",
    "import pandas as pd"
   ]
  },
  {
   "cell_type": "code",
   "execution_count": 3,
   "metadata": {
    "collapsed": true
   },
   "outputs": [],
   "source": [
    "# Importing the dataset\n",
    "dataset = pd.read_csv('Churn_Modelling.csv')\n",
    "X = dataset.iloc[:, 3:13].values\n",
    "y = dataset.iloc[:, 13].values"
   ]
  },
  {
   "cell_type": "code",
   "execution_count": 4,
   "metadata": {
    "collapsed": true
   },
   "outputs": [],
   "source": [
    "# Encoding categorical data \n",
    "from sklearn.preprocessing import LabelEncoder, OneHotEncoder\n",
    "labelencoder_X_1 = LabelEncoder()\n",
    "X[:, 1] = labelencoder_X_1.fit_transform(X[:, 1])\n",
    "labelencoder_X_2 = LabelEncoder()\n",
    "X[:, 2] = labelencoder_X_2.fit_transform(X[:, 2])\n",
    "onehotencoder = OneHotEncoder(categorical_features = [1])\n",
    "X = onehotencoder.fit_transform(X).toarray()\n",
    "X = X[:, 1:]"
   ]
  },
  {
   "cell_type": "code",
   "execution_count": 5,
   "metadata": {
    "collapsed": true
   },
   "outputs": [],
   "source": [
    "# Splitting the dataset into the Training set and Test set\n",
    "from sklearn.model_selection import train_test_split\n",
    "X_train, X_test, y_train, y_test = train_test_split(X, y, test_size = 0.2, random_state = 0)"
   ]
  },
  {
   "cell_type": "code",
   "execution_count": 6,
   "metadata": {},
   "outputs": [
    {
     "name": "stdout",
     "output_type": "stream",
     "text": [
      "(8000, 11)\n"
     ]
    }
   ],
   "source": [
    "# Feature Scaling\n",
    "from sklearn.preprocessing import StandardScaler\n",
    "sc = StandardScaler()\n",
    "X_train = sc.fit_transform(X_train)\n",
    "print(X_train.shape)"
   ]
  },
  {
   "cell_type": "code",
   "execution_count": 7,
   "metadata": {},
   "outputs": [
    {
     "name": "stdout",
     "output_type": "stream",
     "text": [
      "(2000, 11)\n"
     ]
    }
   ],
   "source": [
    "X_test = sc.transform(X_test)\n",
    "print(X_test.shape)"
   ]
  },
  {
   "cell_type": "code",
   "execution_count": 8,
   "metadata": {},
   "outputs": [
    {
     "name": "stderr",
     "output_type": "stream",
     "text": [
      "Using TensorFlow backend.\n"
     ]
    }
   ],
   "source": [
    "# Lets make ANN\n",
    "import keras\n",
    "from keras.models import Sequential #type of model\n",
    "from keras.layers import Dense #used to create hidden layers\n",
    "from keras.layers import Dropout"
   ]
  },
  {
   "cell_type": "code",
   "execution_count": 9,
   "metadata": {},
   "outputs": [
    {
     "name": "stderr",
     "output_type": "stream",
     "text": [
      "/home/gauri/.local/lib/python2.7/site-packages/ipykernel_launcher.py:5: UserWarning: Update your `Dense` call to the Keras 2 API: `Dense(kernel_initializer=\"uniform\", activation=\"relu\", input_dim=11, units=6)`\n",
      "  \"\"\"\n",
      "/home/gauri/.local/lib/python2.7/site-packages/ipykernel_launcher.py:8: UserWarning: Update your `Dense` call to the Keras 2 API: `Dense(units=11, activation=\"relu\", kernel_initializer=\"uniform\")`\n",
      "  \n",
      "/home/gauri/.local/lib/python2.7/site-packages/ipykernel_launcher.py:11: UserWarning: Update your `Dense` call to the Keras 2 API: `Dense(units=11, activation=\"relu\", kernel_initializer=\"uniform\")`\n",
      "  # This is added back by InteractiveShellApp.init_path()\n",
      "/home/gauri/.local/lib/python2.7/site-packages/ipykernel_launcher.py:14: UserWarning: Update your `Dense` call to the Keras 2 API: `Dense(units=1, activation=\"sigmoid\", kernel_initializer=\"uniform\")`\n",
      "  \n"
     ]
    },
    {
     "name": "stdout",
     "output_type": "stream",
     "text": [
      "Epoch 1/100\n",
      "8000/8000 [==============================] - 2s - loss: 0.5348 - acc: 0.7943     \n",
      "Epoch 2/100\n",
      "8000/8000 [==============================] - 1s - loss: 0.4424 - acc: 0.7960     \n",
      "Epoch 3/100\n",
      "8000/8000 [==============================] - 1s - loss: 0.4329 - acc: 0.7960     \n",
      "Epoch 4/100\n",
      "8000/8000 [==============================] - 1s - loss: 0.4290 - acc: 0.7960     \n",
      "Epoch 5/100\n",
      "8000/8000 [==============================] - 1s - loss: 0.4288 - acc: 0.7960     \n",
      "Epoch 6/100\n",
      "8000/8000 [==============================] - 1s - loss: 0.4280 - acc: 0.7960     \n",
      "Epoch 7/100\n",
      "8000/8000 [==============================] - 1s - loss: 0.4269 - acc: 0.7960     \n",
      "Epoch 8/100\n",
      "8000/8000 [==============================] - 1s - loss: 0.4284 - acc: 0.8074     \n",
      "Epoch 9/100\n",
      "8000/8000 [==============================] - 1s - loss: 0.4238 - acc: 0.8209     \n",
      "Epoch 10/100\n",
      "8000/8000 [==============================] - 1s - loss: 0.4249 - acc: 0.8230     \n",
      "Epoch 11/100\n",
      "8000/8000 [==============================] - 1s - loss: 0.4263 - acc: 0.8220     \n",
      "Epoch 12/100\n",
      "8000/8000 [==============================] - 1s - loss: 0.4265 - acc: 0.8261     \n",
      "Epoch 13/100\n",
      "8000/8000 [==============================] - 1s - loss: 0.4283 - acc: 0.8246     \n",
      "Epoch 14/100\n",
      "8000/8000 [==============================] - 1s - loss: 0.4243 - acc: 0.8273     \n",
      "Epoch 15/100\n",
      "8000/8000 [==============================] - 1s - loss: 0.4243 - acc: 0.8256     \n",
      "Epoch 16/100\n",
      "8000/8000 [==============================] - 1s - loss: 0.4241 - acc: 0.8236     \n",
      "Epoch 17/100\n",
      "8000/8000 [==============================] - 1s - loss: 0.4247 - acc: 0.8259     \n",
      "Epoch 18/100\n",
      "8000/8000 [==============================] - 1s - loss: 0.4248 - acc: 0.8279     \n",
      "Epoch 19/100\n",
      "8000/8000 [==============================] - 1s - loss: 0.4232 - acc: 0.8274     \n",
      "Epoch 20/100\n",
      "8000/8000 [==============================] - 1s - loss: 0.4213 - acc: 0.8234     \n",
      "Epoch 21/100\n",
      "8000/8000 [==============================] - 1s - loss: 0.4242 - acc: 0.8250     \n",
      "Epoch 22/100\n",
      "8000/8000 [==============================] - 1s - loss: 0.4214 - acc: 0.8274     \n",
      "Epoch 23/100\n",
      "8000/8000 [==============================] - 1s - loss: 0.4219 - acc: 0.8231     \n",
      "Epoch 24/100\n",
      "8000/8000 [==============================] - 1s - loss: 0.4201 - acc: 0.8254     \n",
      "Epoch 25/100\n",
      "8000/8000 [==============================] - 1s - loss: 0.4227 - acc: 0.8268     \n",
      "Epoch 26/100\n",
      "8000/8000 [==============================] - 1s - loss: 0.4201 - acc: 0.8243     \n",
      "Epoch 27/100\n",
      "8000/8000 [==============================] - 1s - loss: 0.4213 - acc: 0.8278     \n",
      "Epoch 28/100\n",
      "8000/8000 [==============================] - 1s - loss: 0.4201 - acc: 0.8290     \n",
      "Epoch 29/100\n",
      "8000/8000 [==============================] - 1s - loss: 0.4217 - acc: 0.8268     \n",
      "Epoch 30/100\n",
      "8000/8000 [==============================] - 1s - loss: 0.4213 - acc: 0.8264     \n",
      "Epoch 31/100\n",
      "8000/8000 [==============================] - 1s - loss: 0.4223 - acc: 0.8258     \n",
      "Epoch 32/100\n",
      "8000/8000 [==============================] - 1s - loss: 0.4220 - acc: 0.8275     \n",
      "Epoch 33/100\n",
      "8000/8000 [==============================] - 1s - loss: 0.4208 - acc: 0.8266     \n",
      "Epoch 34/100\n",
      "8000/8000 [==============================] - 1s - loss: 0.4204 - acc: 0.8293     \n",
      "Epoch 35/100\n",
      "8000/8000 [==============================] - 1s - loss: 0.4216 - acc: 0.8273     \n",
      "Epoch 36/100\n",
      "8000/8000 [==============================] - 1s - loss: 0.4179 - acc: 0.8276     \n",
      "Epoch 37/100\n",
      "8000/8000 [==============================] - 1s - loss: 0.4191 - acc: 0.8311     \n",
      "Epoch 38/100\n",
      "8000/8000 [==============================] - 1s - loss: 0.4200 - acc: 0.8289     \n",
      "Epoch 39/100\n",
      "8000/8000 [==============================] - 1s - loss: 0.4204 - acc: 0.8275     \n",
      "Epoch 40/100\n",
      "8000/8000 [==============================] - 1s - loss: 0.4189 - acc: 0.8273     \n",
      "Epoch 41/100\n",
      "8000/8000 [==============================] - 1s - loss: 0.4189 - acc: 0.8283     \n",
      "Epoch 42/100\n",
      "8000/8000 [==============================] - 1s - loss: 0.4212 - acc: 0.8298     \n",
      "Epoch 43/100\n",
      "8000/8000 [==============================] - 1s - loss: 0.4185 - acc: 0.8274     \n",
      "Epoch 44/100\n",
      "8000/8000 [==============================] - 1s - loss: 0.4194 - acc: 0.8284     \n",
      "Epoch 45/100\n",
      "8000/8000 [==============================] - 1s - loss: 0.4178 - acc: 0.8300     \n",
      "Epoch 46/100\n",
      "8000/8000 [==============================] - 1s - loss: 0.4177 - acc: 0.8295     \n",
      "Epoch 47/100\n",
      "8000/8000 [==============================] - 1s - loss: 0.4223 - acc: 0.8260     \n",
      "Epoch 48/100\n",
      "8000/8000 [==============================] - 1s - loss: 0.4209 - acc: 0.8277     \n",
      "Epoch 49/100\n",
      "8000/8000 [==============================] - 1s - loss: 0.4184 - acc: 0.8285     \n",
      "Epoch 50/100\n",
      "8000/8000 [==============================] - 1s - loss: 0.4189 - acc: 0.8264     \n",
      "Epoch 51/100\n",
      "8000/8000 [==============================] - 1s - loss: 0.4176 - acc: 0.8250     \n",
      "Epoch 52/100\n",
      "8000/8000 [==============================] - 1s - loss: 0.4196 - acc: 0.8285     \n",
      "Epoch 53/100\n",
      "8000/8000 [==============================] - 1s - loss: 0.4199 - acc: 0.8268     \n",
      "Epoch 54/100\n",
      "8000/8000 [==============================] - 1s - loss: 0.4213 - acc: 0.8271     \n",
      "Epoch 55/100\n",
      "8000/8000 [==============================] - 1s - loss: 0.4172 - acc: 0.8285     \n",
      "Epoch 56/100\n",
      "8000/8000 [==============================] - 1s - loss: 0.4196 - acc: 0.8279     \n",
      "Epoch 57/100\n",
      "8000/8000 [==============================] - 1s - loss: 0.4182 - acc: 0.8279     \n",
      "Epoch 58/100\n",
      "8000/8000 [==============================] - 1s - loss: 0.4200 - acc: 0.8299     \n",
      "Epoch 59/100\n",
      "8000/8000 [==============================] - 1s - loss: 0.4177 - acc: 0.8285     \n",
      "Epoch 60/100\n",
      "8000/8000 [==============================] - 1s - loss: 0.4188 - acc: 0.8295     \n",
      "Epoch 61/100\n",
      "8000/8000 [==============================] - 1s - loss: 0.4164 - acc: 0.8304     \n",
      "Epoch 62/100\n",
      "8000/8000 [==============================] - 1s - loss: 0.4160 - acc: 0.8299     \n",
      "Epoch 63/100\n",
      "8000/8000 [==============================] - 1s - loss: 0.4147 - acc: 0.8304     \n",
      "Epoch 64/100\n",
      "8000/8000 [==============================] - 1s - loss: 0.4205 - acc: 0.8285     \n",
      "Epoch 65/100\n",
      "8000/8000 [==============================] - 1s - loss: 0.4178 - acc: 0.8294     \n",
      "Epoch 66/100\n",
      "8000/8000 [==============================] - 1s - loss: 0.4195 - acc: 0.8271     \n",
      "Epoch 67/100\n",
      "8000/8000 [==============================] - 1s - loss: 0.4188 - acc: 0.8251     \n",
      "Epoch 68/100\n",
      "8000/8000 [==============================] - 1s - loss: 0.4170 - acc: 0.8291     \n",
      "Epoch 69/100\n",
      "8000/8000 [==============================] - 1s - loss: 0.4130 - acc: 0.8300     \n",
      "Epoch 70/100\n",
      "8000/8000 [==============================] - 1s - loss: 0.4198 - acc: 0.8290     \n",
      "Epoch 71/100\n",
      "8000/8000 [==============================] - 1s - loss: 0.4170 - acc: 0.8298     \n",
      "Epoch 72/100\n",
      "8000/8000 [==============================] - 1s - loss: 0.4153 - acc: 0.8290     \n",
      "Epoch 73/100\n",
      "8000/8000 [==============================] - 1s - loss: 0.4180 - acc: 0.8301     \n",
      "Epoch 74/100\n",
      "8000/8000 [==============================] - 1s - loss: 0.4175 - acc: 0.8288     \n",
      "Epoch 75/100\n",
      "8000/8000 [==============================] - 1s - loss: 0.4139 - acc: 0.8320     \n",
      "Epoch 76/100\n",
      "8000/8000 [==============================] - 1s - loss: 0.4176 - acc: 0.8294     \n",
      "Epoch 77/100\n",
      "8000/8000 [==============================] - 1s - loss: 0.4186 - acc: 0.8280     \n",
      "Epoch 78/100\n",
      "8000/8000 [==============================] - 1s - loss: 0.4170 - acc: 0.8296     \n",
      "Epoch 79/100\n",
      "8000/8000 [==============================] - 1s - loss: 0.4179 - acc: 0.8290     \n",
      "Epoch 80/100\n",
      "8000/8000 [==============================] - 1s - loss: 0.4157 - acc: 0.8289     \n",
      "Epoch 81/100\n",
      "8000/8000 [==============================] - 1s - loss: 0.4157 - acc: 0.8310     \n",
      "Epoch 82/100\n",
      "8000/8000 [==============================] - 1s - loss: 0.4187 - acc: 0.8303     \n",
      "Epoch 83/100\n",
      "8000/8000 [==============================] - 1s - loss: 0.4187 - acc: 0.8283     \n",
      "Epoch 84/100\n",
      "8000/8000 [==============================] - 1s - loss: 0.4164 - acc: 0.8294     \n",
      "Epoch 85/100\n",
      "8000/8000 [==============================] - 1s - loss: 0.4172 - acc: 0.8311     \n",
      "Epoch 86/100\n",
      "8000/8000 [==============================] - 1s - loss: 0.4152 - acc: 0.8290     \n",
      "Epoch 87/100\n"
     ]
    },
    {
     "name": "stdout",
     "output_type": "stream",
     "text": [
      "8000/8000 [==============================] - 1s - loss: 0.4171 - acc: 0.8268     \n",
      "Epoch 88/100\n",
      "8000/8000 [==============================] - 1s - loss: 0.4174 - acc: 0.8290     \n",
      "Epoch 89/100\n",
      "8000/8000 [==============================] - 1s - loss: 0.4138 - acc: 0.8325     \n",
      "Epoch 90/100\n",
      "8000/8000 [==============================] - 1s - loss: 0.4193 - acc: 0.8279     \n",
      "Epoch 91/100\n",
      "8000/8000 [==============================] - 1s - loss: 0.4149 - acc: 0.8324     \n",
      "Epoch 92/100\n",
      "8000/8000 [==============================] - 1s - loss: 0.4183 - acc: 0.8309     \n",
      "Epoch 93/100\n",
      "8000/8000 [==============================] - 1s - loss: 0.4192 - acc: 0.8266     \n",
      "Epoch 94/100\n",
      "8000/8000 [==============================] - 1s - loss: 0.4174 - acc: 0.8314     \n",
      "Epoch 95/100\n",
      "8000/8000 [==============================] - 1s - loss: 0.4180 - acc: 0.8271     \n",
      "Epoch 96/100\n",
      "8000/8000 [==============================] - 1s - loss: 0.4168 - acc: 0.8305     \n",
      "Epoch 97/100\n",
      "8000/8000 [==============================] - 1s - loss: 0.4181 - acc: 0.8295     \n",
      "Epoch 98/100\n",
      "8000/8000 [==============================] - 1s - loss: 0.4191 - acc: 0.8283     \n",
      "Epoch 99/100\n",
      "8000/8000 [==============================] - 1s - loss: 0.4124 - acc: 0.8335     \n",
      "Epoch 100/100\n",
      "8000/8000 [==============================] - 1s - loss: 0.4140 - acc: 0.8320     \n"
     ]
    },
    {
     "data": {
      "text/plain": [
       "<keras.callbacks.History at 0x7fdf4851a510>"
      ]
     },
     "execution_count": 9,
     "metadata": {},
     "output_type": "execute_result"
    }
   ],
   "source": [
    "# Create your classifier here\n",
    "#Initialising the ANN\n",
    "classifier = Sequential() # classifier is as object\n",
    "#Adding the hidden layers\n",
    "classifier.add(Dense(output_dim = 6, init = 'uniform', activation = 'relu', input_dim = 11))\n",
    "classifier.add(Dropout(rate = 0.1))\n",
    "#Adding Second Hidden Layer\n",
    "classifier.add(Dense(output_dim = 11, init = 'uniform', activation = 'relu'))\n",
    "classifier.add(Dropout(rate = 0.1))\n",
    "#Adding Third Hidden Layer\n",
    "classifier.add(Dense(output_dim = 11, init = 'uniform', activation = 'relu'))\n",
    "classifier.add(Dropout(rate = 0.1))\n",
    "#Adding final/output layer\n",
    "classifier.add(Dense(output_dim = 1, init = 'uniform', activation = 'sigmoid'))\n",
    "#Compiling the ANN\n",
    "classifier.compile(optimizer = 'adam', loss = 'binary_crossentropy', metrics = ['accuracy'])\n",
    "#fitting ANN to trainig set\n",
    "classifier.fit(X_train, y_train, batch_size = 20, epochs = 100)"
   ]
  },
  {
   "cell_type": "markdown",
   "metadata": {},
   "source": [
    "y_pred will contain the data that is predicted on test data. Less prediction on y_pred indicates less probability of the customers to leave the bank."
   ]
  },
  {
   "cell_type": "code",
   "execution_count": 10,
   "metadata": {},
   "outputs": [
    {
     "name": "stdout",
     "output_type": "stream",
     "text": [
      "[[0.19612847]\n",
      " [0.29878628]\n",
      " [0.21998245]\n",
      " ...\n",
      " [0.17477573]\n",
      " [0.13212101]\n",
      " [0.15140893]]\n"
     ]
    }
   ],
   "source": [
    "# Predicting the Test set results\n",
    "y_pred = classifier.predict(X_test)\n",
    "print(y_pred)"
   ]
  },
  {
   "cell_type": "code",
   "execution_count": 11,
   "metadata": {},
   "outputs": [
    {
     "name": "stdout",
     "output_type": "stream",
     "text": [
      "0.19555557\n"
     ]
    }
   ],
   "source": [
    "#average prediction over the test data\n",
    "y_pred_mean = y_pred.mean()\n",
    "print(y_pred_mean)"
   ]
  },
  {
   "cell_type": "code",
   "execution_count": 12,
   "metadata": {},
   "outputs": [
    {
     "name": "stdout",
     "output_type": "stream",
     "text": [
      "[[False]]\n"
     ]
    }
   ],
   "source": [
    "#New Single Prediction\n",
    "new_prediction = classifier.predict(sc.transform(np.array([[0.0, 0, 600, 1, 40, 3, 60000, 2, 1, 1, 50000]])))\n",
    "print(new_prediction > 0.5)"
   ]
  },
  {
   "cell_type": "markdown",
   "metadata": {
    "collapsed": true
   },
   "source": [
    "Congratulations!!! The customer doesn't leave the bank!!!"
   ]
  },
  {
   "cell_type": "code",
   "execution_count": null,
   "metadata": {
    "collapsed": true
   },
   "outputs": [],
   "source": []
  }
 ],
 "metadata": {
  "kernelspec": {
   "display_name": "Python 2",
   "language": "python",
   "name": "python2"
  },
  "language_info": {
   "codemirror_mode": {
    "name": "ipython",
    "version": 2
   },
   "file_extension": ".py",
   "mimetype": "text/x-python",
   "name": "python",
   "nbconvert_exporter": "python",
   "pygments_lexer": "ipython2",
   "version": "2.7.12"
  }
 },
 "nbformat": 4,
 "nbformat_minor": 2
}
